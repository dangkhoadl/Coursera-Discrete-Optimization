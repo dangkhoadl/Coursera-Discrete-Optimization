{
 "cells": [
  {
   "cell_type": "code",
   "execution_count": 1,
   "metadata": {},
   "outputs": [],
   "source": [
    "import numpy as np\n",
    "import matplotlib.pyplot as plt"
   ]
  },
  {
   "cell_type": "code",
   "execution_count": 2,
   "metadata": {},
   "outputs": [],
   "source": [
    "def plot_TSP(test_case):\n",
    "    # f_path\n",
    "    input_f_path = f'data/{test_case}'\n",
    "    output_f_path = f'submission/out_{test_case}'\n",
    "\n",
    "    # Read data\n",
    "    inp = []\n",
    "    with open(input_f_path, 'r+') as file_obj:\n",
    "        for line in list(file_obj)[1:]:\n",
    "            x, y = line.strip().split(' ')\n",
    "            inp.append( (float(x), float(y)) )\n",
    "    inp = np.array(inp)\n",
    "\n",
    "    with open(output_f_path, 'r+') as file_obj:\n",
    "        file_obj = list(file_obj)\n",
    "        tsp_len = float(file_obj[1].strip().split(' ')[0])\n",
    "        out = [int(x) for x in file_obj[2].strip().split(' ')]\n",
    "\n",
    "    # Plot TSP\n",
    "    fig, axs = plt.subplots(nrows=1, ncols=2, figsize=(20,10))\n",
    "    fig.suptitle(test_case, fontsize=24)\n",
    "\n",
    "    axs[0].scatter(\n",
    "        x=inp[:, 0], y=inp[:, 1],\n",
    "        s=7, c='r',\n",
    "        marker='o')\n",
    "    axs[0].set_title ('Dataset', fontsize=16)\n",
    "\n",
    "    axs[1].scatter(\n",
    "        x=inp[:, 0], y=inp[:, 1],\n",
    "        s=7, c='r',\n",
    "        marker='o')\n",
    "    axs[1].set_title (f'TSP length = {tsp_len:.3f}', fontsize=16)\n",
    "\n",
    "    def plot_segment(p1, p2, color='b--'):\n",
    "        axs[1].plot((p1[0], p2[0]), (p1[1], p2[1]), color)\n",
    "\n",
    "    for i in range(len(out)):\n",
    "        idx_1 = out[i]\n",
    "        idx_2 = out[(i+1)%len(out)]\n",
    "        plot_segment(inp[idx_1], inp[idx_2])\n",
    "\n",
    "    plt.show()"
   ]
  },
  {
   "cell_type": "code",
   "execution_count": 3,
   "metadata": {},
   "outputs": [
    {
     "ename": "FileNotFoundError",
     "evalue": "[Errno 2] No such file or directory: 'submission/out_tsp_51_1'",
     "output_type": "error",
     "traceback": [
      "\u001b[0;31m---------------------------------------------------------------------------\u001b[0m",
      "\u001b[0;31mFileNotFoundError\u001b[0m                         Traceback (most recent call last)",
      "\u001b[0;32m<ipython-input-3-79af97bc4b98>\u001b[0m in \u001b[0;36m<module>\u001b[0;34m\u001b[0m\n\u001b[0;32m----> 1\u001b[0;31m \u001b[0mplot_TSP\u001b[0m\u001b[0;34m(\u001b[0m\u001b[0;34m'tsp_51_1'\u001b[0m\u001b[0;34m)\u001b[0m\u001b[0;34m\u001b[0m\u001b[0;34m\u001b[0m\u001b[0m\n\u001b[0m\u001b[1;32m      2\u001b[0m \u001b[0mplot_TSP\u001b[0m\u001b[0;34m(\u001b[0m\u001b[0;34m'tsp_100_3'\u001b[0m\u001b[0;34m)\u001b[0m\u001b[0;34m\u001b[0m\u001b[0;34m\u001b[0m\u001b[0m\n\u001b[1;32m      3\u001b[0m \u001b[0mplot_TSP\u001b[0m\u001b[0;34m(\u001b[0m\u001b[0;34m'tsp_200_2'\u001b[0m\u001b[0;34m)\u001b[0m\u001b[0;34m\u001b[0m\u001b[0;34m\u001b[0m\u001b[0m\n\u001b[1;32m      4\u001b[0m \u001b[0mplot_TSP\u001b[0m\u001b[0;34m(\u001b[0m\u001b[0;34m'tsp_574_1'\u001b[0m\u001b[0;34m)\u001b[0m\u001b[0;34m\u001b[0m\u001b[0;34m\u001b[0m\u001b[0m\n\u001b[1;32m      5\u001b[0m \u001b[0mplot_TSP\u001b[0m\u001b[0;34m(\u001b[0m\u001b[0;34m'tsp_1889_1'\u001b[0m\u001b[0;34m)\u001b[0m\u001b[0;34m\u001b[0m\u001b[0;34m\u001b[0m\u001b[0m\n",
      "\u001b[0;32m<ipython-input-2-78a85970f697>\u001b[0m in \u001b[0;36mplot_TSP\u001b[0;34m(test_case)\u001b[0m\n\u001b[1;32m     12\u001b[0m     \u001b[0minp\u001b[0m \u001b[0;34m=\u001b[0m \u001b[0mnp\u001b[0m\u001b[0;34m.\u001b[0m\u001b[0marray\u001b[0m\u001b[0;34m(\u001b[0m\u001b[0minp\u001b[0m\u001b[0;34m)\u001b[0m\u001b[0;34m\u001b[0m\u001b[0;34m\u001b[0m\u001b[0m\n\u001b[1;32m     13\u001b[0m \u001b[0;34m\u001b[0m\u001b[0m\n\u001b[0;32m---> 14\u001b[0;31m     \u001b[0;32mwith\u001b[0m \u001b[0mopen\u001b[0m\u001b[0;34m(\u001b[0m\u001b[0moutput_f_path\u001b[0m\u001b[0;34m,\u001b[0m \u001b[0;34m'r+'\u001b[0m\u001b[0;34m)\u001b[0m \u001b[0;32mas\u001b[0m \u001b[0mfile_obj\u001b[0m\u001b[0;34m:\u001b[0m\u001b[0;34m\u001b[0m\u001b[0;34m\u001b[0m\u001b[0m\n\u001b[0m\u001b[1;32m     15\u001b[0m         \u001b[0mfile_obj\u001b[0m \u001b[0;34m=\u001b[0m \u001b[0mlist\u001b[0m\u001b[0;34m(\u001b[0m\u001b[0mfile_obj\u001b[0m\u001b[0;34m)\u001b[0m\u001b[0;34m\u001b[0m\u001b[0;34m\u001b[0m\u001b[0m\n\u001b[1;32m     16\u001b[0m         \u001b[0mtsp_len\u001b[0m \u001b[0;34m=\u001b[0m \u001b[0mfloat\u001b[0m\u001b[0;34m(\u001b[0m\u001b[0mfile_obj\u001b[0m\u001b[0;34m[\u001b[0m\u001b[0;36m1\u001b[0m\u001b[0;34m]\u001b[0m\u001b[0;34m.\u001b[0m\u001b[0mstrip\u001b[0m\u001b[0;34m(\u001b[0m\u001b[0;34m)\u001b[0m\u001b[0;34m.\u001b[0m\u001b[0msplit\u001b[0m\u001b[0;34m(\u001b[0m\u001b[0;34m' '\u001b[0m\u001b[0;34m)\u001b[0m\u001b[0;34m[\u001b[0m\u001b[0;36m0\u001b[0m\u001b[0;34m]\u001b[0m\u001b[0;34m)\u001b[0m\u001b[0;34m\u001b[0m\u001b[0;34m\u001b[0m\u001b[0m\n",
      "\u001b[0;31mFileNotFoundError\u001b[0m: [Errno 2] No such file or directory: 'submission/out_tsp_51_1'"
     ]
    }
   ],
   "source": [
    "plot_TSP('tsp_51_1')\n",
    "plot_TSP('tsp_100_3')\n",
    "plot_TSP('tsp_200_2')\n",
    "plot_TSP('tsp_574_1')\n",
    "plot_TSP('tsp_1889_1')\n",
    "plot_TSP('tsp_33810_1')"
   ]
  }
 ],
 "metadata": {
  "kernelspec": {
   "display_name": "Python 3.8.13 ('py38')",
   "language": "python",
   "name": "python3"
  },
  "language_info": {
   "codemirror_mode": {
    "name": "ipython",
    "version": 3
   },
   "file_extension": ".py",
   "mimetype": "text/x-python",
   "name": "python",
   "nbconvert_exporter": "python",
   "pygments_lexer": "ipython3",
   "version": "3.8.13"
  },
  "orig_nbformat": 4,
  "vscode": {
   "interpreter": {
    "hash": "b166c11a6fb13fc284d60599e45a47824480cbed14934159809ec834d0d5166e"
   }
  }
 },
 "nbformat": 4,
 "nbformat_minor": 2
}
