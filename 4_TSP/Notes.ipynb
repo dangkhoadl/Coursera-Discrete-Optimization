{
 "cells": [
  {
   "cell_type": "markdown",
   "metadata": {},
   "source": [
    "## K-Opt\n",
    "- Select t1\n",
    "<img src=\"img/1.jpg\" alt=\"drawing\" width=\"400\"/>\n",
    "\n",
    "- Proceed\n",
    "    + e1 = (t1 -> t2)\n",
    "    + Select t3 such that e2 = (t2 -> t3), d(e2) < d(e1)\n",
    "    + if non exist, return select a new t1\n",
    "<img src=\"img/2.jpg\" alt=\"drawing\" width=\"400\"/>\n",
    "\n",
    "- Temp config\n",
    "    + remove (t1 -> t2), (t3 -> t4)\n",
    "    + connect (t1 -> t4), (t2 -> t3)\n",
    "    + Revrese v4->v2\n",
    "    + compute new_cost = old_cost + (t1 -> t4) + (t2 -> t3) - (t1 -> t2) - (t3 -> t4)\n",
    "    + proceed again with temp config (select new edge e such that d(e) < d(t1->t4)\n",
    "<img src=\"img/3.jpg\" alt=\"drawing\" width=\"400\"/>"
   ]
  }
 ],
 "metadata": {
  "kernelspec": {
   "display_name": "Python 3.6",
   "language": "python",
   "name": "py36"
  },
  "language_info": {
   "codemirror_mode": {
    "name": "ipython",
    "version": 3
   },
   "file_extension": ".py",
   "mimetype": "text/x-python",
   "name": "python",
   "nbconvert_exporter": "python",
   "pygments_lexer": "ipython3",
   "version": "3.6.6"
  }
 },
 "nbformat": 4,
 "nbformat_minor": 2
}
